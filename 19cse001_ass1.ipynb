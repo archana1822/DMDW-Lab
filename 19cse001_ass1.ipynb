{
  "nbformat": 4,
  "nbformat_minor": 0,
  "metadata": {
    "colab": {
      "name": "19cse001_ass1.ipynb",
      "provenance": [],
      "authorship_tag": "ABX9TyNsN4BMHyP5xuXdYOwHw+A7",
      "include_colab_link": true
    },
    "kernelspec": {
      "name": "python3",
      "display_name": "Python 3"
    }
  },
  "cells": [
    {
      "cell_type": "markdown",
      "metadata": {
        "id": "view-in-github",
        "colab_type": "text"
      },
      "source": [
        "<a href=\"https://colab.research.google.com/github/archana1822/DMDW-Lab/blob/main/19cse001_ass1.ipynb\" target=\"_parent\"><img src=\"https://colab.research.google.com/assets/colab-badge.svg\" alt=\"Open In Colab\"/></a>"
      ]
    },
    {
      "cell_type": "code",
      "metadata": {
        "id": "hejzNbcsRQJd",
        "outputId": "cbbf2b3c-69e4-4fad-a97f-a68e43474772",
        "colab": {
          "base_uri": "https://localhost:8080/",
          "height": 34
        }
      },
      "source": [
        "# Mean without using library\n",
        "n_num = [1, 2, 3, 4, 5] \n",
        "n = len(n_num) \n",
        "  \n",
        "get_sum = sum(n_num) \n",
        "mean = get_sum / n \n",
        "  \n",
        "print(\"Mean / Average is: \" + str(mean)) "
      ],
      "execution_count": null,
      "outputs": [
        {
          "output_type": "stream",
          "text": [
            "Mean / Average is: 3.0\n"
          ],
          "name": "stdout"
        }
      ]
    },
    {
      "cell_type": "code",
      "metadata": {
        "id": "y6JIGgaDSQJy",
        "outputId": "f5c9b4cb-958b-4c3e-dd5d-43ae6b279a13",
        "colab": {
          "base_uri": "https://localhost:8080/",
          "height": 34
        }
      },
      "source": [
        "# Median without using library\n",
        "n_num = [1, 2, 3, 4, 5] \n",
        "n = len(n_num) \n",
        "n_num.sort() \n",
        "  \n",
        "if n % 2 == 0: \n",
        "    median1 = n_num[n//2] \n",
        "    median2 = n_num[n//2 - 1] \n",
        "    median = (median1 + median2)/2\n",
        "else: \n",
        "    median = n_num[n//2] \n",
        "print(\"Median is: \" + str(median))"
      ],
      "execution_count": null,
      "outputs": [
        {
          "output_type": "stream",
          "text": [
            "Median is: 3\n"
          ],
          "name": "stdout"
        }
      ]
    },
    {
      "cell_type": "code",
      "metadata": {
        "id": "OYc0mDorS3TS",
        "outputId": "12a51a4f-71d4-4a84-8bcc-f4e2b99bad19",
        "colab": {
          "base_uri": "https://localhost:8080/",
          "height": 34
        }
      },
      "source": [
        "\n",
        "# mode of elements without using library\n",
        "from collections import Counter \n",
        "  \n",
        "# list of elements to calculate mode \n",
        "n_num = [1, 2, 3, 4, 5, 5] \n",
        "n = len(n_num) \n",
        "  \n",
        "data = Counter(n_num) \n",
        "get_mode = dict(data) \n",
        "mode = [k for k, v in get_mode.items() if v == max(list(data.values()))] \n",
        "  \n",
        "if len(mode) == n: \n",
        "    get_mode = \"No mode found\"\n",
        "else: \n",
        "    get_mode = \"Mode is / are: \" + ', '.join(map(str, mode)) \n",
        "      \n",
        "print(get_mode) "
      ],
      "execution_count": null,
      "outputs": [
        {
          "output_type": "stream",
          "text": [
            "Mode is / are: 5\n"
          ],
          "name": "stdout"
        }
      ]
    },
    {
      "cell_type": "code",
      "metadata": {
        "id": "b_7xHLRYTNqQ"
      },
      "source": [
        ""
      ],
      "execution_count": null,
      "outputs": []
    },
    {
      "cell_type": "code",
      "metadata": {
        "id": "WCr6cY8iVTbl",
        "outputId": "1fc43f08-05aa-49e0-b40b-2afd8c9e3663",
        "colab": {
          "base_uri": "https://localhost:8080/",
          "height": 85
        }
      },
      "source": [
        "import numpy\n",
        "\n",
        "speed = [99,86,87,88,111,86,103,87,94,78,77,85,86]\n",
        "\n",
        "x = numpy.mean(speed)\n",
        "y = numpy.median(speed)\n",
        "s = numpy.std(speed)\n",
        "v = numpy.var(speed)\n",
        "print(x)\n",
        "print(y)\n",
        "print(s)\n",
        "print(v)\n"
      ],
      "execution_count": null,
      "outputs": [
        {
          "output_type": "stream",
          "text": [
            "89.76923076923077\n",
            "87.0\n",
            "9.258292301032677\n",
            "85.71597633136093\n"
          ],
          "name": "stdout"
        }
      ]
    },
    {
      "cell_type": "code",
      "metadata": {
        "id": "Bds58NxcV6Vr",
        "outputId": "f7ad0435-b3f4-4e03-e5dd-bde3e3c033d7",
        "colab": {
          "base_uri": "https://localhost:8080/",
          "height": 34
        }
      },
      "source": [
        "from scipy import stats\n",
        "\n",
        "speed = [99,86,87,88,111,86,103,87,94,78,77,85,86]\n",
        "\n",
        "x = stats.mode(speed)\n",
        "\n",
        "print(x)"
      ],
      "execution_count": null,
      "outputs": [
        {
          "output_type": "stream",
          "text": [
            "ModeResult(mode=array([86]), count=array([3]))\n"
          ],
          "name": "stdout"
        }
      ]
    },
    {
      "cell_type": "code",
      "metadata": {
        "id": "INjdZuiwXwzP",
        "outputId": "1244b513-7704-40ee-c7c9-8d952c9e29b5",
        "colab": {
          "base_uri": "https://localhost:8080/",
          "height": 34
        }
      },
      "source": [
        "# Mean without using library\n",
        "n_num = [1, 2, 3, 4, 5] \n",
        "n = len(n_num) \n",
        "  \n",
        "get_sum = sum(n_num) \n",
        "mean = get_sum / n \n",
        "  \n",
        "print(\"Mean / Average is: \" + str(mean)) "
      ],
      "execution_count": null,
      "outputs": [
        {
          "output_type": "stream",
          "text": [
            "Mean / Average is: 3.0\n"
          ],
          "name": "stdout"
        }
      ]
    },
    {
      "cell_type": "code",
      "metadata": {
        "id": "N7Z-XE6vfzj0"
      },
      "source": [
        ""
      ],
      "execution_count": null,
      "outputs": []
    }
  ]
}